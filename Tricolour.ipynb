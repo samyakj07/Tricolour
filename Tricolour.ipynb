{
 "cells": [
  {
   "cell_type": "code",
   "execution_count": null,
   "id": "b529eb0a",
   "metadata": {},
   "outputs": [],
   "source": [
    "from PIL import Image, ImageDraw\n",
    "\n",
    "def draw_indian_flag():\n",
    "  \n",
    "    height = 225\n",
    "    width = 450\n",
    "\n",
    "    # Create a new image with white background\n",
    "    flag = Image.new(\"RGB\", (width, height), (255, 255, 255))\n",
    "    draw = ImageDraw.Draw(flag)\n",
    "\n",
    "    # Calculate the heights of different sections in the flag\n",
    "    saffron_height = height // 3\n",
    "    white_height = height // 3\n",
    "    green_height = height // 3\n",
    "\n",
    "    # Draw the saffron, white, and green sections\n",
    "    draw.rectangle([(0, 0), (width, saffron_height)], fill=(255, 153, 51))\n",
    "    draw.rectangle([(0, saffron_height), (width, saffron_height + white_height)], fill=(255, 255, 255))\n",
    "    draw.rectangle([(0, saffron_height + white_height), (width, height)], fill=(19, 136, 8))\n",
    "     \n",
    "    flag.save(\"indian_flag.png\") \n",
    "    flag.show()\n",
    "\n",
    "if __name__ == \"__main__\":\n",
    "    draw_indian_flag()\n"
   ]
  }
 ],
 "metadata": {
  "kernelspec": {
   "display_name": "Python 3 (ipykernel)",
   "language": "python",
   "name": "python3"
  },
  "language_info": {
   "codemirror_mode": {
    "name": "ipython",
    "version": 3
   },
   "file_extension": ".py",
   "mimetype": "text/x-python",
   "name": "python",
   "nbconvert_exporter": "python",
   "pygments_lexer": "ipython3",
   "version": "3.10.9"
  }
 },
 "nbformat": 4,
 "nbformat_minor": 5
}
